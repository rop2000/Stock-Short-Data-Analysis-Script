{
  "nbformat": 4,
  "nbformat_minor": 0,
  "metadata": {
    "colab": {
      "name": "Short Data Script.ipynb",
      "provenance": [],
      "collapsed_sections": [],
      "toc_visible": true,
      "authorship_tag": "ABX9TyM9g4FRaYZWJu2jKmrfrr3C",
      "include_colab_link": true
    },
    "kernelspec": {
      "name": "python3",
      "display_name": "Python 3"
    }
  },
  "cells": [
    {
      "cell_type": "markdown",
      "metadata": {
        "id": "view-in-github",
        "colab_type": "text"
      },
      "source": [
        "<a href=\"https://colab.research.google.com/github/rop2000/Stock-Short-Data-Analysis-Script/blob/main/Short_Data_Script.ipynb\" target=\"_parent\"><img src=\"https://colab.research.google.com/assets/colab-badge.svg\" alt=\"Open In Colab\"/></a>"
      ]
    },
    {
      "cell_type": "markdown",
      "metadata": {
        "id": "E9JzLvokJf-l"
      },
      "source": [
        "#Short Data Notebook\r\n",
        "\r\n",
        "###Data from \r\n",
        "> [Nasdaq Short Data](https://www.nasdaqtrader.com/Trader.aspx?id=shortsale)\r\n",
        "\r\n",
        "> [FINRA Short Data](http://regsho.finra.org/regsho-Index.html)\r\n"
      ]
    },
    {
      "cell_type": "code",
      "metadata": {
        "id": "EeIy5c_Huuxx"
      },
      "source": [
        "#Set globals for stonks\r\n",
        "\r\n",
        "STOCK = 'AAPL' # This is the only one that should be modified\r\n",
        "UNFORMATTED_DATES = []\r\n",
        "DATES = []\r\n",
        "PSX_DATES = []\r\n",
        "BX_SHORT_VALS = []\r\n",
        "PSX_SHORT_VALS = []\r\n",
        "FINRA_SHORT_VALS = []"
      ],
      "execution_count": 141,
      "outputs": []
    },
    {
      "cell_type": "code",
      "metadata": {
        "colab": {
          "base_uri": "https://localhost:8080/"
        },
        "id": "FNuWdUYaijXS",
        "outputId": "858f6538-7708-49ec-9374-647825e12871"
      },
      "source": [
        "%cd '/content'\r\n",
        "!mkdir 'BX Data'\r\n",
        "!mkdir 'PSX Data'\r\n",
        "%cd 'BX Data'"
      ],
      "execution_count": 142,
      "outputs": [
        {
          "output_type": "stream",
          "text": [
            "/content\n",
            "mkdir: cannot create directory ‘BX Data’: File exists\n",
            "/content/BX Data\n"
          ],
          "name": "stdout"
        }
      ]
    },
    {
      "cell_type": "code",
      "metadata": {
        "id": "2aooVIorJZ_6"
      },
      "source": [
        "import ftplib\r\n",
        "import os\r\n",
        "import datetime\r\n",
        "\r\n",
        "\r\n",
        "FTP_HOST = \"ftp.nasdaqtrader.com\"\r\n",
        "\r\n",
        "FTP_USER = \"Anonymous\"\r\n",
        "\r\n",
        "FTP_PASS = \"guest\""
      ],
      "execution_count": 143,
      "outputs": []
    },
    {
      "cell_type": "code",
      "metadata": {
        "id": "9yl1VGq5O4EN"
      },
      "source": [
        "# some utility functions\r\n",
        "def get_size_format(n, suffix=\"B\"):\r\n",
        "    # converts bytes to scaled format (e.g KB, MB, etc.)\r\n",
        "    for unit in [\"\", \"K\", \"M\", \"G\", \"T\", \"P\"]:\r\n",
        "        if n < 1024:\r\n",
        "            return f\"{n:.2f}{unit}{suffix}\"\r\n",
        "        n /= 1024\r\n",
        "\r\n",
        "def get_datetime_format(date_time):\r\n",
        "    # convert to datetime object\r\n",
        "    date_time = datetime.strptime(date_time, \"%Y%m%d%H%M%S\")\r\n",
        "    # convert to human readable date time string\r\n",
        "    return date_time.strftime(\"%Y/%m/%d %H:%M:%S\")"
      ],
      "execution_count": 144,
      "outputs": []
    },
    {
      "cell_type": "code",
      "metadata": {
        "id": "EK39vGbpKXwg"
      },
      "source": [
        "# connect to the FTP server\r\n",
        "ftp = ftplib.FTP(FTP_HOST, FTP_USER, FTP_PASS)\r\n",
        "# force UTF-8 encoding\r\n",
        "ftp.encoding = \"utf-8\""
      ],
      "execution_count": 145,
      "outputs": []
    },
    {
      "cell_type": "code",
      "metadata": {
        "colab": {
          "base_uri": "https://localhost:8080/"
        },
        "id": "t5axARmJO7Ct",
        "outputId": "20a630af-fbdd-449b-d08f-438c50ea82fa"
      },
      "source": [
        "# print the welcome message - 220 means client is ready and connected\r\n",
        "print(ftp.getwelcome())"
      ],
      "execution_count": 146,
      "outputs": [
        {
          "output_type": "stream",
          "text": [
            "220 Microsoft FTP Service\n"
          ],
          "name": "stdout"
        }
      ]
    },
    {
      "cell_type": "code",
      "metadata": {
        "colab": {
          "base_uri": "https://localhost:8080/",
          "height": 36
        },
        "id": "uPCjSdpKPQx8",
        "outputId": "851e3e07-d2dc-43ac-c081-6241636100e5"
      },
      "source": [
        "ftp.cwd(\"files/shortsaledata/daily\")"
      ],
      "execution_count": 147,
      "outputs": [
        {
          "output_type": "execute_result",
          "data": {
            "application/vnd.google.colaboratory.intrinsic+json": {
              "type": "string"
            },
            "text/plain": [
              "'250 CWD command successful.'"
            ]
          },
          "metadata": {
            "tags": []
          },
          "execution_count": 147
        }
      ]
    },
    {
      "cell_type": "code",
      "metadata": {
        "id": "PkrwHIXhX9W9"
      },
      "source": [
        "def parse_dir_line(line):\r\n",
        "        words = line.split()\r\n",
        "        filename = words[8]\r\n",
        "        size = int(words[4])\r\n",
        "        t = words[7].split(':')\r\n",
        "        ts = words[5] + '-' + words[6] + '-' + datetime.datetime.now().strftime('%Y') + ' ' + t[0] + ':' + t[1]\r\n",
        "        timestamp = datetime.datetime.strptime(ts, '%b-%d-%Y %H:%M')"
      ],
      "execution_count": 148,
      "outputs": []
    },
    {
      "cell_type": "code",
      "metadata": {
        "colab": {
          "base_uri": "https://localhost:8080/"
        },
        "id": "QAxLmP35PWjj",
        "outputId": "a7b4d0a8-395a-4437-b84e-b74f4ac67c43"
      },
      "source": [
        "# LIST a directory\r\n",
        "print(\"*\"*50, \"LIST\", \"*\"*50)\r\n",
        "dir_list = []\r\n",
        "ftp.dir(dir_list.append)\r\n",
        "print(dir_list)\r\n",
        "for line in dir_list:\r\n",
        "   print(line[29:].strip().split(' '))"
      ],
      "execution_count": 149,
      "outputs": [
        {
          "output_type": "stream",
          "text": [
            "************************************************** LIST **************************************************\n",
            "['02-12-21  04:31PM       <DIR>          bx', '09-06-12  12:18PM       <DIR>          nasdaq', '02-12-21  04:30PM       <DIR>          psx']\n",
            "['bx']\n",
            "['nasdaq']\n",
            "['psx']\n"
          ],
          "name": "stdout"
        }
      ]
    },
    {
      "cell_type": "code",
      "metadata": {
        "colab": {
          "base_uri": "https://localhost:8080/"
        },
        "id": "DGYakVNTWI9A",
        "outputId": "d87460d2-b0e9-4e0a-c38e-f4b737331f7b"
      },
      "source": [
        "ftp.cwd(\"bx\")\r\n",
        "os.chdir('/content/BX Data')\r\n",
        "!pwd"
      ],
      "execution_count": 150,
      "outputs": [
        {
          "output_type": "stream",
          "text": [
            "/content/BX Data\n"
          ],
          "name": "stdout"
        }
      ]
    },
    {
      "cell_type": "code",
      "metadata": {
        "id": "TKrVxf1deVsQ"
      },
      "source": [
        "# # LIST a directory\r\n",
        "# print(\"*\"*50, \"LIST\", \"*\"*50)\r\n",
        "# bx_file_list = []\r\n",
        "# final_files = []\r\n",
        "# ftp.dir(bx_file_list.append)\r\n",
        "# print(bx_file_list)\r\n",
        "# for line in bx_file_list:\r\n",
        "#    final_files.append(line[29:].strip().split(' ')[1])\r\n",
        "# print(final_files)"
      ],
      "execution_count": 151,
      "outputs": []
    },
    {
      "cell_type": "code",
      "metadata": {
        "colab": {
          "base_uri": "https://localhost:8080/"
        },
        "id": "WXpDqcLYgHCv",
        "outputId": "651ea466-8bba-4fc1-aea3-b4eaa69de01e"
      },
      "source": [
        "# https://stackoverflow.com/questions/11573817/how-to-download-a-file-via-ftp-with-python-ftplib\r\n",
        "bx_filenames = ftp.nlst()\r\n",
        "bx_filenames = bx_filenames[-100:] #Most recent 100 days (past 100 days)\r\n",
        "print(bx_filenames)\r\n"
      ],
      "execution_count": 152,
      "outputs": [
        {
          "output_type": "stream",
          "text": [
            "['NQBXshvol20200922.txt', 'NQBXshvol20200923.txt', 'NQBXshvol20200924.txt', 'NQBXshvol20200925.txt', 'NQBXshvol20200928.txt', 'NQBXshvol20200929.txt', 'NQBXshvol20200930.txt', 'NQBXshvol20201001.txt', 'NQBXshvol20201002.txt', 'NQBXshvol20201005.txt', 'NQBXshvol20201006.txt', 'NQBXshvol20201007.txt', 'NQBXshvol20201008.txt', 'NQBXshvol20201009.txt', 'NQBXshvol20201012.txt', 'NQBXshvol20201013.txt', 'NQBXshvol20201014.txt', 'NQBXshvol20201015.txt', 'NQBXshvol20201016.txt', 'NQBXshvol20201019.txt', 'NQBXshvol20201020.txt', 'NQBXshvol20201021.txt', 'NQBXshvol20201022.txt', 'NQBXshvol20201023.txt', 'NQBXshvol20201026.txt', 'NQBXshvol20201027.txt', 'NQBXshvol20201028.txt', 'NQBXshvol20201029.txt', 'NQBXshvol20201030.txt', 'NQBXshvol20201102.txt', 'NQBXshvol20201103.txt', 'NQBXshvol20201104.txt', 'NQBXshvol20201105.txt', 'NQBXshvol20201106.txt', 'NQBXshvol20201109.txt', 'NQBXshvol20201110.txt', 'NQBXshvol20201111.txt', 'NQBXshvol20201112.txt', 'NQBXshvol20201113.txt', 'NQBXshvol20201116.txt', 'NQBXshvol20201117.txt', 'NQBXshvol20201118.txt', 'NQBXshvol20201119.txt', 'NQBXshvol20201120.txt', 'NQBXshvol20201123.txt', 'NQBXshvol20201124.txt', 'NQBXshvol20201125.txt', 'NQBXshvol20201127.txt', 'NQBXshvol20201130.txt', 'NQBXshvol20201201.txt', 'NQBXshvol20201202.txt', 'NQBXshvol20201203.txt', 'NQBXshvol20201204.txt', 'NQBXshvol20201207.txt', 'NQBXshvol20201208.txt', 'NQBXshvol20201209.txt', 'NQBXshvol20201210.txt', 'NQBXshvol20201211.txt', 'NQBXshvol20201214.txt', 'NQBXshvol20201215.txt', 'NQBXshvol20201216.txt', 'NQBXshvol20201217.txt', 'NQBXshvol20201218.txt', 'NQBXshvol20201221.txt', 'NQBXshvol20201222.txt', 'NQBXshvol20201223.txt', 'NQBXshvol20201224.txt', 'NQBXshvol20201228.txt', 'NQBXshvol20201229.txt', 'NQBXshvol20201230.txt', 'NQBXshvol20201231.txt', 'NQBXshvol20210104.txt', 'NQBXshvol20210105.txt', 'NQBXshvol20210106.txt', 'NQBXshvol20210107.txt', 'NQBXshvol20210108.txt', 'NQBXshvol20210111.txt', 'NQBXshvol20210112.txt', 'NQBXshvol20210113.txt', 'NQBXshvol20210114.txt', 'NQBXshvol20210115.txt', 'NQBXshvol20210119.txt', 'NQBXshvol20210120.txt', 'NQBXshvol20210121.txt', 'NQBXshvol20210122.txt', 'NQBXshvol20210125.txt', 'NQBXshvol20210126.txt', 'NQBXshvol20210127.txt', 'NQBXshvol20210128.txt', 'NQBXshvol20210129.txt', 'NQBXshvol20210201.txt', 'NQBXshvol20210202.txt', 'NQBXshvol20210203.txt', 'NQBXshvol20210204.txt', 'NQBXshvol20210205.txt', 'NQBXshvol20210208.txt', 'NQBXshvol20210209.txt', 'NQBXshvol20210210.txt', 'NQBXshvol20210211.txt', 'NQBXshvol20210212.txt']\n"
          ],
          "name": "stdout"
        }
      ]
    },
    {
      "cell_type": "code",
      "metadata": {
        "id": "A0F_REYKm9DL"
      },
      "source": [
        "for bxfile in bx_filenames:\r\n",
        "  with open(bxfile, 'wb') as file:\r\n",
        "    ftp.retrbinary('RETR %s' % bxfile, file.write)\r\n",
        "    file.close()"
      ],
      "execution_count": 153,
      "outputs": []
    },
    {
      "cell_type": "code",
      "metadata": {
        "id": "8QxesZ33pp7J"
      },
      "source": [
        "# https://stackoverflow.com/questions/18262293/how-to-open-every-file-in-a-folder"
      ],
      "execution_count": 154,
      "outputs": []
    },
    {
      "cell_type": "code",
      "metadata": {
        "id": "Xm8dXsY2gn-e"
      },
      "source": [
        "# %cd /content\r\n",
        "# %rm -rf 'BX Data'"
      ],
      "execution_count": 155,
      "outputs": []
    },
    {
      "cell_type": "code",
      "metadata": {
        "colab": {
          "base_uri": "https://localhost:8080/"
        },
        "id": "I9FvKyB1l-nv",
        "outputId": "b9bff309-5f50-4c18-c5ac-83212382c44d"
      },
      "source": [
        "import pandas as pd\r\n",
        "from string import digits\r\n",
        "\r\n",
        "\r\n",
        "\r\n",
        "################# EXTREMELY IMPORTANT CANCER ########################3\r\n",
        "############## os.listdir is stupid and doesnt return files in the right order##############\r\n",
        "############## YOU HAVE TO USE SORTED function around it for correct order ##################\r\n",
        "# print(sorted(os.listdir(os.getcwd())))\r\n",
        "\r\n",
        "#get current working directory\r\n",
        "dateString = '';\r\n",
        "allFiles = sorted(os.listdir(os.getcwd()))\r\n",
        "print(len(allFiles))\r\n",
        "for filename in allFiles:\r\n",
        "   print(dateString)\r\n",
        "   with open(os.path.join(os.getcwd(), filename), 'r') as file:\r\n",
        "     lines = file.readlines()\r\n",
        "     file.close() #free memory\r\n",
        "     for line in lines:\r\n",
        "       line = line.split('|')\r\n",
        "       \r\n",
        "       if len(line) > 1:\r\n",
        "          if line[1] == STOCK and line[0] is not 'DATE':\r\n",
        "            BX_SHORT_VALS.append(int(line[2]))\r\n",
        "\r\n",
        "            dateString = ''.join(c for c in filename if c in digits)\r\n",
        "            \r\n",
        "            UNFORMATTED_DATES.append(dateString)\r\n",
        "\r\n",
        "            if dateString[4] != 0:\r\n",
        "              month = int(dateString[4:6])\r\n",
        "            else:\r\n",
        "              month = int(dateString[5])\r\n",
        "            \r\n",
        "            if dateString[6] != 0:\r\n",
        "              day = int(dateString[-2:])\r\n",
        "            else:\r\n",
        "              day = int(dateString[7])\r\n",
        "\r\n",
        "            DATES.append(datetime.date(int(dateString[:4]), month, day))\r\n",
        "\r\n",
        "\r\n",
        "print(BX_SHORT_VALS)"
      ],
      "execution_count": 156,
      "outputs": [
        {
          "output_type": "stream",
          "text": [
            "100\n",
            "\n",
            "20200922\n",
            "20200923\n",
            "20200924\n",
            "20200925\n",
            "20200928\n",
            "20200929\n",
            "20200930\n",
            "20201001\n",
            "20201002\n",
            "20201005\n",
            "20201006\n",
            "20201007\n",
            "20201008\n",
            "20201009\n",
            "20201012\n",
            "20201013\n",
            "20201014\n",
            "20201015\n",
            "20201016\n",
            "20201019\n",
            "20201020\n",
            "20201021\n",
            "20201022\n",
            "20201023\n",
            "20201026\n",
            "20201027\n",
            "20201028\n",
            "20201029\n",
            "20201030\n",
            "20201102\n",
            "20201103\n",
            "20201104\n",
            "20201105\n",
            "20201106\n",
            "20201109\n",
            "20201110\n",
            "20201111\n",
            "20201112\n",
            "20201113\n",
            "20201116\n",
            "20201117\n",
            "20201118\n",
            "20201119\n",
            "20201120\n",
            "20201123\n",
            "20201124\n",
            "20201125\n",
            "20201127\n",
            "20201130\n",
            "20201201\n",
            "20201202\n",
            "20201203\n",
            "20201204\n",
            "20201207\n",
            "20201208\n",
            "20201209\n",
            "20201210\n",
            "20201211\n",
            "20201214\n",
            "20201215\n",
            "20201216\n",
            "20201217\n",
            "20201218\n",
            "20201221\n",
            "20201222\n",
            "20201223\n",
            "20201224\n",
            "20201228\n",
            "20201229\n",
            "20201230\n",
            "20201231\n",
            "20210104\n",
            "20210105\n",
            "20210106\n",
            "20210107\n",
            "20210108\n",
            "20210111\n",
            "20210112\n",
            "20210113\n",
            "20210114\n",
            "20210115\n",
            "20210119\n",
            "20210120\n",
            "20210121\n",
            "20210122\n",
            "20210125\n",
            "20210126\n",
            "20210127\n",
            "20210128\n",
            "20210129\n",
            "20210201\n",
            "20210202\n",
            "20210203\n",
            "20210204\n",
            "20210205\n",
            "20210208\n",
            "20210209\n",
            "20210210\n",
            "20210211\n",
            "[245897, 284766, 238763, 150785, 154488, 72914, 94830, 118596, 154130, 101117, 238072, 130199, 98827, 91367, 249319, 286946, 127270, 83750, 106909, 84001, 113285, 124395, 146638, 64586, 149877, 107522, 198118, 132457, 323053, 169142, 221463, 118362, 135644, 75416, 200951, 191473, 112072, 209837, 224432, 105801, 122269, 137299, 159603, 115983, 293514, 152494, 56649, 47398, 191937, 120924, 81368, 115422, 65432, 94198, 86605, 179785, 158706, 170668, 206070, 293902, 131768, 707008, 137179, 91965, 206506, 100788, 53366, 192642, 119827, 101713, 95350, 262618, 215925, 169415, 260255, 184833, 114128, 207014, 190840, 190525, 85917, 128862, 102284, 146652, 137156, 214415, 118942, 157180, 172235, 348952, 193103, 182365, 127380, 98465, 66132, 86973, 85762, 49093, 53316, 82707]\n"
          ],
          "name": "stdout"
        }
      ]
    },
    {
      "cell_type": "code",
      "metadata": {
        "id": "YLvU62uvFi0s"
      },
      "source": [
        ""
      ],
      "execution_count": 156,
      "outputs": []
    },
    {
      "cell_type": "code",
      "metadata": {
        "colab": {
          "base_uri": "https://localhost:8080/"
        },
        "id": "h37-ETyktsgg",
        "outputId": "22fbb3c5-c298-4965-e24b-b57f4d02b548"
      },
      "source": [
        "  print(UNFORMATTED_DATES)\r\n",
        "  print(DATES)\r\n",
        "  print(BX_SHORT_VALS)"
      ],
      "execution_count": 157,
      "outputs": [
        {
          "output_type": "stream",
          "text": [
            "['20200922', '20200923', '20200924', '20200925', '20200928', '20200929', '20200930', '20201001', '20201002', '20201005', '20201006', '20201007', '20201008', '20201009', '20201012', '20201013', '20201014', '20201015', '20201016', '20201019', '20201020', '20201021', '20201022', '20201023', '20201026', '20201027', '20201028', '20201029', '20201030', '20201102', '20201103', '20201104', '20201105', '20201106', '20201109', '20201110', '20201111', '20201112', '20201113', '20201116', '20201117', '20201118', '20201119', '20201120', '20201123', '20201124', '20201125', '20201127', '20201130', '20201201', '20201202', '20201203', '20201204', '20201207', '20201208', '20201209', '20201210', '20201211', '20201214', '20201215', '20201216', '20201217', '20201218', '20201221', '20201222', '20201223', '20201224', '20201228', '20201229', '20201230', '20201231', '20210104', '20210105', '20210106', '20210107', '20210108', '20210111', '20210112', '20210113', '20210114', '20210115', '20210119', '20210120', '20210121', '20210122', '20210125', '20210126', '20210127', '20210128', '20210129', '20210201', '20210202', '20210203', '20210204', '20210205', '20210208', '20210209', '20210210', '20210211', '20210212']\n",
            "[datetime.date(2020, 9, 22), datetime.date(2020, 9, 23), datetime.date(2020, 9, 24), datetime.date(2020, 9, 25), datetime.date(2020, 9, 28), datetime.date(2020, 9, 29), datetime.date(2020, 9, 30), datetime.date(2020, 10, 1), datetime.date(2020, 10, 2), datetime.date(2020, 10, 5), datetime.date(2020, 10, 6), datetime.date(2020, 10, 7), datetime.date(2020, 10, 8), datetime.date(2020, 10, 9), datetime.date(2020, 10, 12), datetime.date(2020, 10, 13), datetime.date(2020, 10, 14), datetime.date(2020, 10, 15), datetime.date(2020, 10, 16), datetime.date(2020, 10, 19), datetime.date(2020, 10, 20), datetime.date(2020, 10, 21), datetime.date(2020, 10, 22), datetime.date(2020, 10, 23), datetime.date(2020, 10, 26), datetime.date(2020, 10, 27), datetime.date(2020, 10, 28), datetime.date(2020, 10, 29), datetime.date(2020, 10, 30), datetime.date(2020, 11, 2), datetime.date(2020, 11, 3), datetime.date(2020, 11, 4), datetime.date(2020, 11, 5), datetime.date(2020, 11, 6), datetime.date(2020, 11, 9), datetime.date(2020, 11, 10), datetime.date(2020, 11, 11), datetime.date(2020, 11, 12), datetime.date(2020, 11, 13), datetime.date(2020, 11, 16), datetime.date(2020, 11, 17), datetime.date(2020, 11, 18), datetime.date(2020, 11, 19), datetime.date(2020, 11, 20), datetime.date(2020, 11, 23), datetime.date(2020, 11, 24), datetime.date(2020, 11, 25), datetime.date(2020, 11, 27), datetime.date(2020, 11, 30), datetime.date(2020, 12, 1), datetime.date(2020, 12, 2), datetime.date(2020, 12, 3), datetime.date(2020, 12, 4), datetime.date(2020, 12, 7), datetime.date(2020, 12, 8), datetime.date(2020, 12, 9), datetime.date(2020, 12, 10), datetime.date(2020, 12, 11), datetime.date(2020, 12, 14), datetime.date(2020, 12, 15), datetime.date(2020, 12, 16), datetime.date(2020, 12, 17), datetime.date(2020, 12, 18), datetime.date(2020, 12, 21), datetime.date(2020, 12, 22), datetime.date(2020, 12, 23), datetime.date(2020, 12, 24), datetime.date(2020, 12, 28), datetime.date(2020, 12, 29), datetime.date(2020, 12, 30), datetime.date(2020, 12, 31), datetime.date(2021, 1, 4), datetime.date(2021, 1, 5), datetime.date(2021, 1, 6), datetime.date(2021, 1, 7), datetime.date(2021, 1, 8), datetime.date(2021, 1, 11), datetime.date(2021, 1, 12), datetime.date(2021, 1, 13), datetime.date(2021, 1, 14), datetime.date(2021, 1, 15), datetime.date(2021, 1, 19), datetime.date(2021, 1, 20), datetime.date(2021, 1, 21), datetime.date(2021, 1, 22), datetime.date(2021, 1, 25), datetime.date(2021, 1, 26), datetime.date(2021, 1, 27), datetime.date(2021, 1, 28), datetime.date(2021, 1, 29), datetime.date(2021, 2, 1), datetime.date(2021, 2, 2), datetime.date(2021, 2, 3), datetime.date(2021, 2, 4), datetime.date(2021, 2, 5), datetime.date(2021, 2, 8), datetime.date(2021, 2, 9), datetime.date(2021, 2, 10), datetime.date(2021, 2, 11), datetime.date(2021, 2, 12)]\n",
            "[245897, 284766, 238763, 150785, 154488, 72914, 94830, 118596, 154130, 101117, 238072, 130199, 98827, 91367, 249319, 286946, 127270, 83750, 106909, 84001, 113285, 124395, 146638, 64586, 149877, 107522, 198118, 132457, 323053, 169142, 221463, 118362, 135644, 75416, 200951, 191473, 112072, 209837, 224432, 105801, 122269, 137299, 159603, 115983, 293514, 152494, 56649, 47398, 191937, 120924, 81368, 115422, 65432, 94198, 86605, 179785, 158706, 170668, 206070, 293902, 131768, 707008, 137179, 91965, 206506, 100788, 53366, 192642, 119827, 101713, 95350, 262618, 215925, 169415, 260255, 184833, 114128, 207014, 190840, 190525, 85917, 128862, 102284, 146652, 137156, 214415, 118942, 157180, 172235, 348952, 193103, 182365, 127380, 98465, 66132, 86973, 85762, 49093, 53316, 82707]\n"
          ],
          "name": "stdout"
        }
      ]
    },
    {
      "cell_type": "code",
      "metadata": {
        "colab": {
          "base_uri": "https://localhost:8080/",
          "height": 295
        },
        "id": "muRpjaSIWH8A",
        "outputId": "09962c8c-1e64-4374-fe49-0222d47124c9"
      },
      "source": [
        "import matplotlib.pyplot as plt\r\n",
        "\r\n",
        "plt.plot(DATES, BX_SHORT_VALS, color='g')\r\n",
        "# plt.plot(DATES, popdsf, color='orange')\r\n",
        "plt.xlabel('Date')\r\n",
        "plt.ylabel('Short Value')\r\n",
        "plt.title('AAPL Short Data')\r\n",
        "plt.show()"
      ],
      "execution_count": 158,
      "outputs": [
        {
          "output_type": "display_data",
          "data": {
            "image/png": "[encoded data removed]",
            "text/plain": [
              "<Figure size 432x288 with 1 Axes>"
            ]
          },
          "metadata": {
            "tags": [],
            "needs_background": "light"
          }
        }
      ]
    },
    {
      "cell_type": "code",
      "metadata": {
        "colab": {
          "base_uri": "https://localhost:8080/"
        },
        "id": "j-BD20GtKnnP",
        "outputId": "797fb881-a3d7-4fd7-f6e1-4d0ca9e2529d"
      },
      "source": [
        "ftp.cwd(\"../psx\")\r\n",
        "os.chdir('/content/PSX Data')\r\n",
        "!pwd"
      ],
      "execution_count": 159,
      "outputs": [
        {
          "output_type": "stream",
          "text": [
            "/content/PSX Data\n"
          ],
          "name": "stdout"
        }
      ]
    },
    {
      "cell_type": "code",
      "metadata": {
        "colab": {
          "base_uri": "https://localhost:8080/"
        },
        "id": "drfIgdTaLOQk",
        "outputId": "36d4de15-cb6e-457c-a41e-33f6b2eba6e0"
      },
      "source": [
        "# https://stackoverflow.com/questions/11573817/how-to-download-a-file-via-ftp-with-python-ftplib\r\n",
        "psx_filenames = ftp.nlst()\r\n",
        "psx_filenames = psx_filenames[-102:-2] #Most recent 100 days (past 100 days)\r\n",
        "print(psx_filenames)\r\n"
      ],
      "execution_count": 160,
      "outputs": [
        {
          "output_type": "stream",
          "text": [
            "['NPSXshvol20200922.txt', 'NPSXshvol20200923.txt', 'NPSXshvol20200924.txt', 'NPSXshvol20200925.txt', 'NPSXshvol20200928.txt', 'NPSXshvol20200929.txt', 'NPSXshvol20200930.txt', 'NPSXshvol20201001.txt', 'NPSXshvol20201002.txt', 'NPSXshvol20201005.txt', 'NPSXshvol20201006.txt', 'NPSXshvol20201007.txt', 'NPSXshvol20201008.txt', 'NPSXshvol20201009.txt', 'NPSXshvol20201012.txt', 'NPSXshvol20201013.txt', 'NPSXshvol20201014.txt', 'NPSXshvol20201015.txt', 'NPSXshvol20201016.txt', 'NPSXshvol20201019.txt', 'NPSXshvol20201020.txt', 'NPSXshvol20201021.txt', 'NPSXshvol20201022.txt', 'NPSXshvol20201023.txt', 'NPSXshvol20201026.txt', 'NPSXshvol20201027.txt', 'NPSXshvol20201028.txt', 'NPSXshvol20201029.txt', 'NPSXshvol20201030.txt', 'NPSXshvol20201102.txt', 'NPSXshvol20201103.txt', 'NPSXshvol20201104.txt', 'NPSXshvol20201105.txt', 'NPSXshvol20201106.txt', 'NPSXshvol20201109.txt', 'NPSXshvol20201110.txt', 'NPSXshvol20201111.txt', 'NPSXshvol20201112.txt', 'NPSXshvol20201113.txt', 'NPSXshvol20201116.txt', 'NPSXshvol20201117.txt', 'NPSXshvol20201118.txt', 'NPSXshvol20201119.txt', 'NPSXshvol20201120.txt', 'NPSXshvol20201123.txt', 'NPSXshvol20201124.txt', 'NPSXshvol20201125.txt', 'NPSXshvol20201127.txt', 'NPSXshvol20201130.txt', 'NPSXshvol20201201.txt', 'NPSXshvol20201202.txt', 'NPSXshvol20201203.txt', 'NPSXshvol20201204.txt', 'NPSXshvol20201207.txt', 'NPSXshvol20201208.txt', 'NPSXshvol20201209.txt', 'NPSXshvol20201210.txt', 'NPSXshvol20201211.txt', 'NPSXshvol20201214.txt', 'NPSXshvol20201215.txt', 'NPSXshvol20201216.txt', 'NPSXshvol20201217.txt', 'NPSXshvol20201218.txt', 'NPSXshvol20201221.txt', 'NPSXshvol20201222.txt', 'NPSXshvol20201223.txt', 'NPSXshvol20201224.txt', 'NPSXshvol20201228.txt', 'NPSXshvol20201229.txt', 'NPSXshvol20201230.txt', 'NPSXshvol20201231.txt', 'NPSXshvol20210104.txt', 'NPSXshvol20210105.txt', 'NPSXshvol20210106.txt', 'NPSXshvol20210107.txt', 'NPSXshvol20210108.txt', 'NPSXshvol20210111.txt', 'NPSXshvol20210112.txt', 'NPSXshvol20210113.txt', 'NPSXshvol20210114.txt', 'NPSXshvol20210115.txt', 'NPSXshvol20210119.txt', 'NPSXshvol20210120.txt', 'NPSXshvol20210121.txt', 'NPSXshvol20210122.txt', 'NPSXshvol20210125.txt', 'NPSXshvol20210126.txt', 'NPSXshvol20210127.txt', 'NPSXshvol20210128.txt', 'NPSXshvol20210129.txt', 'NPSXshvol20210201.txt', 'NPSXshvol20210202.txt', 'NPSXshvol20210203.txt', 'NPSXshvol20210204.txt', 'NPSXshvol20210205.txt', 'NPSXshvol20210208.txt', 'NPSXshvol20210209.txt', 'NPSXshvol20210210.txt', 'NPSXshvol20210211.txt', 'NPSXshvol20210212.txt']\n"
          ],
          "name": "stdout"
        }
      ]
    },
    {
      "cell_type": "code",
      "metadata": {
        "id": "LKnUjxYdLOQp"
      },
      "source": [
        "for psxfile in psx_filenames:\r\n",
        "  with open(psxfile, 'wb') as file:\r\n",
        "    ftp.retrbinary('RETR %s' % psxfile, file.write)\r\n",
        "    file.close()"
      ],
      "execution_count": 161,
      "outputs": []
    },
    {
      "cell_type": "code",
      "metadata": {
        "colab": {
          "base_uri": "https://localhost:8080/"
        },
        "id": "64pP2M8MMP48",
        "outputId": "5198542a-09e7-4507-d592-db1a2bcf4d3f"
      },
      "source": [
        "import pandas as pd\r\n",
        "from string import digits\r\n",
        "\r\n",
        "\r\n",
        "\r\n",
        "################# EXTREMELY IMPORTANT CANCER ########################3\r\n",
        "############## os.listdir is stupid and doesnt return files in the right order##############\r\n",
        "############## YOU HAVE TO USE SORTED function around it for correct order ##################\r\n",
        "# print(sorted(os.listdir(os.getcwd())))\r\n",
        "\r\n",
        "#get current working directory\r\n",
        "dateString = '';\r\n",
        "allFiles = sorted(os.listdir(os.getcwd()))\r\n",
        "print(len(allFiles))\r\n",
        "for filename in allFiles:\r\n",
        "   print(dateString)\r\n",
        "   with open(os.path.join(os.getcwd(), filename), 'r') as file:\r\n",
        "     lines = file.readlines()\r\n",
        "     file.close() #free memory\r\n",
        "     for line in lines:\r\n",
        "       line = line.split('|')\r\n",
        "       \r\n",
        "       if len(line) > 1:\r\n",
        "          if line[1] == STOCK and line[0] is not 'DATE':\r\n",
        "            PSX_SHORT_VALS.append(int(line[2]))\r\n",
        "\r\n",
        "            dateString = ''.join(c for c in filename if c in digits)\r\n",
        "\r\n",
        "            if dateString[4] != 0:\r\n",
        "              month = int(dateString[4:6])\r\n",
        "            else:\r\n",
        "              month = int(dateString[5])\r\n",
        "            \r\n",
        "            if dateString[6] != 0:\r\n",
        "              day = int(dateString[-2:])\r\n",
        "            else:\r\n",
        "              day = int(dateString[7])\r\n",
        "\r\n",
        "            PSX_DATES.append(datetime.date(int(dateString[:4]), month, day))\r\n",
        "\r\n",
        "\r\n",
        "print(PSX_SHORT_VALS)"
      ],
      "execution_count": 162,
      "outputs": [
        {
          "output_type": "stream",
          "text": [
            "100\n",
            "\n",
            "20200922\n",
            "20200923\n",
            "20200924\n",
            "20200925\n",
            "20200928\n",
            "20200929\n",
            "20200930\n",
            "20201001\n",
            "20201002\n",
            "20201005\n",
            "20201006\n",
            "20201007\n",
            "20201008\n",
            "20201009\n",
            "20201012\n",
            "20201013\n",
            "20201014\n",
            "20201015\n",
            "20201016\n",
            "20201019\n",
            "20201020\n",
            "20201021\n",
            "20201022\n",
            "20201023\n",
            "20201026\n",
            "20201027\n",
            "20201028\n",
            "20201029\n",
            "20201030\n",
            "20201102\n",
            "20201103\n",
            "20201104\n",
            "20201105\n",
            "20201106\n",
            "20201109\n",
            "20201110\n",
            "20201111\n",
            "20201112\n",
            "20201113\n",
            "20201116\n",
            "20201117\n",
            "20201118\n",
            "20201119\n",
            "20201120\n",
            "20201123\n",
            "20201124\n",
            "20201125\n",
            "20201127\n",
            "20201130\n",
            "20201201\n",
            "20201202\n",
            "20201203\n",
            "20201204\n",
            "20201207\n",
            "20201208\n",
            "20201209\n",
            "20201210\n",
            "20201211\n",
            "20201214\n",
            "20201215\n",
            "20201216\n",
            "20201217\n",
            "20201218\n",
            "20201221\n",
            "20201222\n",
            "20201223\n",
            "20201224\n",
            "20201228\n",
            "20201229\n",
            "20201230\n",
            "20201231\n",
            "20210104\n",
            "20210105\n",
            "20210106\n",
            "20210107\n",
            "20210108\n",
            "20210111\n",
            "20210112\n",
            "20210113\n",
            "20210114\n",
            "20210115\n",
            "20210119\n",
            "20210120\n",
            "20210121\n",
            "20210122\n",
            "20210125\n",
            "20210126\n",
            "20210127\n",
            "20210128\n",
            "20210129\n",
            "20210201\n",
            "20210202\n",
            "20210203\n",
            "20210204\n",
            "20210205\n",
            "20210208\n",
            "20210209\n",
            "20210210\n",
            "20210211\n",
            "[317286, 412736, 335698, 484193, 370529, 353225, 725934, 742685, 1047774, 503746, 1110865, 577633, 498519, 252581, 1267887, 166720, 734775, 294582, 85268, 543738, 397643, 457155, 620785, 357827, 577790, 501169, 955791, 776020, 858717, 670638, 762840, 695510, 740553, 480424, 804511, 900203, 489935, 714627, 699007, 398681, 475863, 508142, 627060, 604108, 901362, 629509, 352009, 148525, 638106, 508382, 425038, 376145, 293099, 415115, 359517, 576680, 343432, 415035, 279209, 450592, 502234, 315832, 459359, 542338, 709914, 372550, 262561, 595328, 495608, 347705, 341800, 450644, 487290, 1008471, 764007, 538174, 688814, 624913, 379508, 613671, 700772, 306708, 387072, 393346, 350769, 883610, 526757, 1166200, 1283013, 491807, 748131, 412301, 434774, 327102, 355119, 243375, 350933, 726789, 434817, 504054]\n"
          ],
          "name": "stdout"
        }
      ]
    },
    {
      "cell_type": "code",
      "metadata": {
        "colab": {
          "base_uri": "https://localhost:8080/"
        },
        "id": "hSuURRHnM5zo",
        "outputId": "2e05f5af-6e5e-4efe-c31d-3e1e7fbab793"
      },
      "source": [
        "print(PSX_DATES)\r\n",
        "print(PSX_SHORT_VALS)"
      ],
      "execution_count": 163,
      "outputs": [
        {
          "output_type": "stream",
          "text": [
            "[datetime.date(2020, 9, 22), datetime.date(2020, 9, 23), datetime.date(2020, 9, 24), datetime.date(2020, 9, 25), datetime.date(2020, 9, 28), datetime.date(2020, 9, 29), datetime.date(2020, 9, 30), datetime.date(2020, 10, 1), datetime.date(2020, 10, 2), datetime.date(2020, 10, 5), datetime.date(2020, 10, 6), datetime.date(2020, 10, 7), datetime.date(2020, 10, 8), datetime.date(2020, 10, 9), datetime.date(2020, 10, 12), datetime.date(2020, 10, 13), datetime.date(2020, 10, 14), datetime.date(2020, 10, 15), datetime.date(2020, 10, 16), datetime.date(2020, 10, 19), datetime.date(2020, 10, 20), datetime.date(2020, 10, 21), datetime.date(2020, 10, 22), datetime.date(2020, 10, 23), datetime.date(2020, 10, 26), datetime.date(2020, 10, 27), datetime.date(2020, 10, 28), datetime.date(2020, 10, 29), datetime.date(2020, 10, 30), datetime.date(2020, 11, 2), datetime.date(2020, 11, 3), datetime.date(2020, 11, 4), datetime.date(2020, 11, 5), datetime.date(2020, 11, 6), datetime.date(2020, 11, 9), datetime.date(2020, 11, 10), datetime.date(2020, 11, 11), datetime.date(2020, 11, 12), datetime.date(2020, 11, 13), datetime.date(2020, 11, 16), datetime.date(2020, 11, 17), datetime.date(2020, 11, 18), datetime.date(2020, 11, 19), datetime.date(2020, 11, 20), datetime.date(2020, 11, 23), datetime.date(2020, 11, 24), datetime.date(2020, 11, 25), datetime.date(2020, 11, 27), datetime.date(2020, 11, 30), datetime.date(2020, 12, 1), datetime.date(2020, 12, 2), datetime.date(2020, 12, 3), datetime.date(2020, 12, 4), datetime.date(2020, 12, 7), datetime.date(2020, 12, 8), datetime.date(2020, 12, 9), datetime.date(2020, 12, 10), datetime.date(2020, 12, 11), datetime.date(2020, 12, 14), datetime.date(2020, 12, 15), datetime.date(2020, 12, 16), datetime.date(2020, 12, 17), datetime.date(2020, 12, 18), datetime.date(2020, 12, 21), datetime.date(2020, 12, 22), datetime.date(2020, 12, 23), datetime.date(2020, 12, 24), datetime.date(2020, 12, 28), datetime.date(2020, 12, 29), datetime.date(2020, 12, 30), datetime.date(2020, 12, 31), datetime.date(2021, 1, 4), datetime.date(2021, 1, 5), datetime.date(2021, 1, 6), datetime.date(2021, 1, 7), datetime.date(2021, 1, 8), datetime.date(2021, 1, 11), datetime.date(2021, 1, 12), datetime.date(2021, 1, 13), datetime.date(2021, 1, 14), datetime.date(2021, 1, 15), datetime.date(2021, 1, 19), datetime.date(2021, 1, 20), datetime.date(2021, 1, 21), datetime.date(2021, 1, 22), datetime.date(2021, 1, 25), datetime.date(2021, 1, 26), datetime.date(2021, 1, 27), datetime.date(2021, 1, 28), datetime.date(2021, 1, 29), datetime.date(2021, 2, 1), datetime.date(2021, 2, 2), datetime.date(2021, 2, 3), datetime.date(2021, 2, 4), datetime.date(2021, 2, 5), datetime.date(2021, 2, 8), datetime.date(2021, 2, 9), datetime.date(2021, 2, 10), datetime.date(2021, 2, 11), datetime.date(2021, 2, 12)]\n",
            "[317286, 412736, 335698, 484193, 370529, 353225, 725934, 742685, 1047774, 503746, 1110865, 577633, 498519, 252581, 1267887, 166720, 734775, 294582, 85268, 543738, 397643, 457155, 620785, 357827, 577790, 501169, 955791, 776020, 858717, 670638, 762840, 695510, 740553, 480424, 804511, 900203, 489935, 714627, 699007, 398681, 475863, 508142, 627060, 604108, 901362, 629509, 352009, 148525, 638106, 508382, 425038, 376145, 293099, 415115, 359517, 576680, 343432, 415035, 279209, 450592, 502234, 315832, 459359, 542338, 709914, 372550, 262561, 595328, 495608, 347705, 341800, 450644, 487290, 1008471, 764007, 538174, 688814, 624913, 379508, 613671, 700772, 306708, 387072, 393346, 350769, 883610, 526757, 1166200, 1283013, 491807, 748131, 412301, 434774, 327102, 355119, 243375, 350933, 726789, 434817, 504054]\n"
          ],
          "name": "stdout"
        }
      ]
    },
    {
      "cell_type": "code",
      "metadata": {
        "id": "oMw7yc6GOQds"
      },
      "source": [
        "# %cd /content\r\n",
        "# %rm -rf 'PSX Data'"
      ],
      "execution_count": 164,
      "outputs": []
    },
    {
      "cell_type": "code",
      "metadata": {
        "colab": {
          "base_uri": "https://localhost:8080/",
          "height": 295
        },
        "id": "DPdSRLY1MoBZ",
        "outputId": "a87ee27a-0ee7-4f9f-ff4e-1028fe527d15"
      },
      "source": [
        "import matplotlib.pyplot as plt\r\n",
        "\r\n",
        "plt.plot(DATES, BX_SHORT_VALS, color='g')\r\n",
        "plt.plot(PSX_DATES, PSX_SHORT_VALS, color='orange')\r\n",
        "# plt.plot(DATES, popdsf, color='orange')\r\n",
        "plt.xlabel('Date')\r\n",
        "plt.ylabel('Short Value')\r\n",
        "plt.title('AAPL Short Data')\r\n",
        "plt.show()"
      ],
      "execution_count": 165,
      "outputs": [
        {
          "output_type": "display_data",
          "data": {
            "image/png": "[encoded data removed]",
            "text/plain": [
              "<Figure size 432x288 with 1 Axes>"
            ]
          },
          "metadata": {
            "tags": [],
            "needs_background": "light"
          }
        }
      ]
    }
  ]
}