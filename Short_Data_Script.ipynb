{
  "nbformat": 4,
  "nbformat_minor": 0,
  "metadata": {
    "colab": {
      "name": "Short Data Script.ipynb",
      "provenance": [],
      "collapsed_sections": [],
      "toc_visible": true,
      "authorship_tag": "ABX9TyPtAOvxeMRxHMt59znmb+rZ",
      "include_colab_link": true
    },
    "kernelspec": {
      "name": "python3",
      "display_name": "Python 3"
    }
  },
  "cells": [
    {
      "cell_type": "markdown",
      "metadata": {
        "id": "view-in-github",
        "colab_type": "text"
      },
      "source": [
        "<a href=\"https://colab.research.google.com/github/rop2000/Stock-Short-Data-Analysis-Script/blob/main/Short_Data_Script.ipynb\" target=\"_parent\"><img src=\"https://colab.research.google.com/assets/colab-badge.svg\" alt=\"Open In Colab\"/></a>"
      ]
    },
    {
      "cell_type": "markdown",
      "metadata": {
        "id": "E9JzLvokJf-l"
      },
      "source": [
        "#Short Data Notebook\r\n",
        "\r\n",
        "###Data from \r\n",
        "> [Nasdaq Short Data](https://www.nasdaqtrader.com/Trader.aspx?id=shortsale)\r\n",
        "\r\n",
        "> [FINRA Short Data](http://regsho.finra.org/regsho-Index.html)\r\n"
      ]
    },
    {
      "cell_type": "code",
      "metadata": {
        "id": "EeIy5c_Huuxx"
      },
      "source": [
        "#Set globals for stonks\r\n",
        "\r\n",
        "STOCK = 'DASH' # This is the only one that shuld be modified\r\n",
        "UNFORMATTED_DATES = []\r\n",
        "DATES = []\r\n",
        "BX_SHORT_VALS = []\r\n",
        "PSX_SHORT_VALS = []\r\n",
        "FINRA_SHORT_VALS = []"
      ],
      "execution_count": 55,
      "outputs": []
    },
    {
      "cell_type": "code",
      "metadata": {
        "colab": {
          "base_uri": "https://localhost:8080/"
        },
        "id": "FNuWdUYaijXS",
        "outputId": "528b459d-89b0-462e-ddf6-a646785683e2"
      },
      "source": [
        "%cd '/content'\r\n",
        "!mkdir 'BX Data'\r\n",
        "%cd 'BX Data'"
      ],
      "execution_count": 56,
      "outputs": [
        {
          "output_type": "stream",
          "text": [
            "/content\n",
            "mkdir: cannot create directory ‘BX Data’: File exists\n",
            "/content/BX Data\n"
          ],
          "name": "stdout"
        }
      ]
    },
    {
      "cell_type": "code",
      "metadata": {
        "id": "2aooVIorJZ_6"
      },
      "source": [
        "import ftplib\r\n",
        "import os\r\n",
        "import datetime\r\n",
        "\r\n",
        "\r\n",
        "FTP_HOST = \"ftp.nasdaqtrader.com\"\r\n",
        "\r\n",
        "FTP_USER = \"Anonymous\"\r\n",
        "\r\n",
        "FTP_PASS = \"guest\""
      ],
      "execution_count": 57,
      "outputs": []
    },
    {
      "cell_type": "code",
      "metadata": {
        "id": "9yl1VGq5O4EN"
      },
      "source": [
        "# some utility functions\r\n",
        "def get_size_format(n, suffix=\"B\"):\r\n",
        "    # converts bytes to scaled format (e.g KB, MB, etc.)\r\n",
        "    for unit in [\"\", \"K\", \"M\", \"G\", \"T\", \"P\"]:\r\n",
        "        if n < 1024:\r\n",
        "            return f\"{n:.2f}{unit}{suffix}\"\r\n",
        "        n /= 1024\r\n",
        "\r\n",
        "def get_datetime_format(date_time):\r\n",
        "    # convert to datetime object\r\n",
        "    date_time = datetime.strptime(date_time, \"%Y%m%d%H%M%S\")\r\n",
        "    # convert to human readable date time string\r\n",
        "    return date_time.strftime(\"%Y/%m/%d %H:%M:%S\")"
      ],
      "execution_count": 58,
      "outputs": []
    },
    {
      "cell_type": "code",
      "metadata": {
        "id": "EK39vGbpKXwg"
      },
      "source": [
        "# connect to the FTP server\r\n",
        "ftp = ftplib.FTP(FTP_HOST, FTP_USER, FTP_PASS)\r\n",
        "# force UTF-8 encoding\r\n",
        "ftp.encoding = \"utf-8\""
      ],
      "execution_count": 59,
      "outputs": []
    },
    {
      "cell_type": "code",
      "metadata": {
        "colab": {
          "base_uri": "https://localhost:8080/"
        },
        "id": "t5axARmJO7Ct",
        "outputId": "055ea6cc-befb-40f5-83ae-7cb704cc2e14"
      },
      "source": [
        "# print the welcome message - 220 means client is ready and connected\r\n",
        "print(ftp.getwelcome())"
      ],
      "execution_count": 60,
      "outputs": [
        {
          "output_type": "stream",
          "text": [
            "220 Microsoft FTP Service\n"
          ],
          "name": "stdout"
        }
      ]
    },
    {
      "cell_type": "code",
      "metadata": {
        "colab": {
          "base_uri": "https://localhost:8080/",
          "height": 36
        },
        "id": "uPCjSdpKPQx8",
        "outputId": "8603c433-ab28-4198-bf37-57d7a9707966"
      },
      "source": [
        "ftp.cwd(\"files/shortsaledata/daily\")"
      ],
      "execution_count": 61,
      "outputs": [
        {
          "output_type": "execute_result",
          "data": {
            "application/vnd.google.colaboratory.intrinsic+json": {
              "type": "string"
            },
            "text/plain": [
              "'250 CWD command successful.'"
            ]
          },
          "metadata": {
            "tags": []
          },
          "execution_count": 61
        }
      ]
    },
    {
      "cell_type": "code",
      "metadata": {
        "id": "PkrwHIXhX9W9"
      },
      "source": [
        "def parse_dir_line(line):\r\n",
        "        words = line.split()\r\n",
        "        filename = words[8]\r\n",
        "        size = int(words[4])\r\n",
        "        t = words[7].split(':')\r\n",
        "        ts = words[5] + '-' + words[6] + '-' + datetime.datetime.now().strftime('%Y') + ' ' + t[0] + ':' + t[1]\r\n",
        "        timestamp = datetime.datetime.strptime(ts, '%b-%d-%Y %H:%M')"
      ],
      "execution_count": 62,
      "outputs": []
    },
    {
      "cell_type": "code",
      "metadata": {
        "colab": {
          "base_uri": "https://localhost:8080/"
        },
        "id": "QAxLmP35PWjj",
        "outputId": "e0b6d536-1404-4122-ccaa-e46c8d246fa6"
      },
      "source": [
        "# LIST a directory\r\n",
        "print(\"*\"*50, \"LIST\", \"*\"*50)\r\n",
        "dir_list = []\r\n",
        "ftp.dir(dir_list.append)\r\n",
        "print(dir_list)\r\n",
        "for line in dir_list:\r\n",
        "   print(line[29:].strip().split(' '))"
      ],
      "execution_count": 63,
      "outputs": [
        {
          "output_type": "stream",
          "text": [
            "************************************************** LIST **************************************************\n",
            "['02-12-21  04:31PM       <DIR>          bx', '09-06-12  12:18PM       <DIR>          nasdaq', '02-12-21  04:30PM       <DIR>          psx']\n",
            "['bx']\n",
            "['nasdaq']\n",
            "['psx']\n"
          ],
          "name": "stdout"
        }
      ]
    },
    {
      "cell_type": "code",
      "metadata": {
        "colab": {
          "base_uri": "https://localhost:8080/"
        },
        "id": "DGYakVNTWI9A",
        "outputId": "881c50ed-49f2-46f0-dbf9-783399a57cad"
      },
      "source": [
        "ftp.cwd(\"bx\")\r\n",
        "os.chdir('/content/BX Data')\r\n",
        "!pwd"
      ],
      "execution_count": 64,
      "outputs": [
        {
          "output_type": "stream",
          "text": [
            "/content/BX Data\n"
          ],
          "name": "stdout"
        }
      ]
    },
    {
      "cell_type": "code",
      "metadata": {
        "id": "TKrVxf1deVsQ"
      },
      "source": [
        "# # LIST a directory\r\n",
        "# print(\"*\"*50, \"LIST\", \"*\"*50)\r\n",
        "# bx_file_list = []\r\n",
        "# final_files = []\r\n",
        "# ftp.dir(bx_file_list.append)\r\n",
        "# print(bx_file_list)\r\n",
        "# for line in bx_file_list:\r\n",
        "#    final_files.append(line[29:].strip().split(' ')[1])\r\n",
        "# print(final_files)"
      ],
      "execution_count": 65,
      "outputs": []
    },
    {
      "cell_type": "code",
      "metadata": {
        "colab": {
          "base_uri": "https://localhost:8080/"
        },
        "id": "WXpDqcLYgHCv",
        "outputId": "04046694-364a-4dba-b62a-2c1d4f384517"
      },
      "source": [
        "# https://stackoverflow.com/questions/11573817/how-to-download-a-file-via-ftp-with-python-ftplib\r\n",
        "bx_filenames = ftp.nlst()\r\n",
        "bx_filenames = bx_filenames[-100:] #Most recent 100 days (past 100 days)\r\n",
        "print(bx_filenames)\r\n"
      ],
      "execution_count": 66,
      "outputs": [
        {
          "output_type": "stream",
          "text": [
            "['NQBXshvol20200922.txt', 'NQBXshvol20200923.txt', 'NQBXshvol20200924.txt', 'NQBXshvol20200925.txt', 'NQBXshvol20200928.txt', 'NQBXshvol20200929.txt', 'NQBXshvol20200930.txt', 'NQBXshvol20201001.txt', 'NQBXshvol20201002.txt', 'NQBXshvol20201005.txt', 'NQBXshvol20201006.txt', 'NQBXshvol20201007.txt', 'NQBXshvol20201008.txt', 'NQBXshvol20201009.txt', 'NQBXshvol20201012.txt', 'NQBXshvol20201013.txt', 'NQBXshvol20201014.txt', 'NQBXshvol20201015.txt', 'NQBXshvol20201016.txt', 'NQBXshvol20201019.txt', 'NQBXshvol20201020.txt', 'NQBXshvol20201021.txt', 'NQBXshvol20201022.txt', 'NQBXshvol20201023.txt', 'NQBXshvol20201026.txt', 'NQBXshvol20201027.txt', 'NQBXshvol20201028.txt', 'NQBXshvol20201029.txt', 'NQBXshvol20201030.txt', 'NQBXshvol20201102.txt', 'NQBXshvol20201103.txt', 'NQBXshvol20201104.txt', 'NQBXshvol20201105.txt', 'NQBXshvol20201106.txt', 'NQBXshvol20201109.txt', 'NQBXshvol20201110.txt', 'NQBXshvol20201111.txt', 'NQBXshvol20201112.txt', 'NQBXshvol20201113.txt', 'NQBXshvol20201116.txt', 'NQBXshvol20201117.txt', 'NQBXshvol20201118.txt', 'NQBXshvol20201119.txt', 'NQBXshvol20201120.txt', 'NQBXshvol20201123.txt', 'NQBXshvol20201124.txt', 'NQBXshvol20201125.txt', 'NQBXshvol20201127.txt', 'NQBXshvol20201130.txt', 'NQBXshvol20201201.txt', 'NQBXshvol20201202.txt', 'NQBXshvol20201203.txt', 'NQBXshvol20201204.txt', 'NQBXshvol20201207.txt', 'NQBXshvol20201208.txt', 'NQBXshvol20201209.txt', 'NQBXshvol20201210.txt', 'NQBXshvol20201211.txt', 'NQBXshvol20201214.txt', 'NQBXshvol20201215.txt', 'NQBXshvol20201216.txt', 'NQBXshvol20201217.txt', 'NQBXshvol20201218.txt', 'NQBXshvol20201221.txt', 'NQBXshvol20201222.txt', 'NQBXshvol20201223.txt', 'NQBXshvol20201224.txt', 'NQBXshvol20201228.txt', 'NQBXshvol20201229.txt', 'NQBXshvol20201230.txt', 'NQBXshvol20201231.txt', 'NQBXshvol20210104.txt', 'NQBXshvol20210105.txt', 'NQBXshvol20210106.txt', 'NQBXshvol20210107.txt', 'NQBXshvol20210108.txt', 'NQBXshvol20210111.txt', 'NQBXshvol20210112.txt', 'NQBXshvol20210113.txt', 'NQBXshvol20210114.txt', 'NQBXshvol20210115.txt', 'NQBXshvol20210119.txt', 'NQBXshvol20210120.txt', 'NQBXshvol20210121.txt', 'NQBXshvol20210122.txt', 'NQBXshvol20210125.txt', 'NQBXshvol20210126.txt', 'NQBXshvol20210127.txt', 'NQBXshvol20210128.txt', 'NQBXshvol20210129.txt', 'NQBXshvol20210201.txt', 'NQBXshvol20210202.txt', 'NQBXshvol20210203.txt', 'NQBXshvol20210204.txt', 'NQBXshvol20210205.txt', 'NQBXshvol20210208.txt', 'NQBXshvol20210209.txt', 'NQBXshvol20210210.txt', 'NQBXshvol20210211.txt', 'NQBXshvol20210212.txt']\n"
          ],
          "name": "stdout"
        }
      ]
    },
    {
      "cell_type": "code",
      "metadata": {
        "id": "A0F_REYKm9DL"
      },
      "source": [
        "for bxfile in bx_filenames:\r\n",
        "  with open(bxfile, 'wb') as file:\r\n",
        "    ftp.retrbinary('RETR %s' % bxfile, file.write)\r\n",
        "    file.close()"
      ],
      "execution_count": 67,
      "outputs": []
    },
    {
      "cell_type": "code",
      "metadata": {
        "id": "8QxesZ33pp7J"
      },
      "source": [
        "# https://stackoverflow.com/questions/18262293/how-to-open-every-file-in-a-folder"
      ],
      "execution_count": 68,
      "outputs": []
    },
    {
      "cell_type": "code",
      "metadata": {
        "id": "Xm8dXsY2gn-e"
      },
      "source": [
        "# %cd /content\r\n",
        "# %rm -rf 'BX Data'"
      ],
      "execution_count": 69,
      "outputs": []
    },
    {
      "cell_type": "code",
      "metadata": {
        "colab": {
          "base_uri": "https://localhost:8080/"
        },
        "id": "I9FvKyB1l-nv",
        "outputId": "a536d69b-1637-4df9-90ca-1f5e7560b274"
      },
      "source": [
        "import pandas as pd\r\n",
        "from string import digits\r\n",
        "\r\n",
        "\r\n",
        "\r\n",
        "################# EXTREMELY IMPORTANT CANCER ########################3\r\n",
        "############## os.listdir is stupid and doesnt return files in the right order##############\r\n",
        "############## YOU HAVE TO USE SORTED function around it for correct order ##################\r\n",
        "# print(sorted(os.listdir(os.getcwd())))\r\n",
        "\r\n",
        "#get current working directory\r\n",
        "dateString = '';\r\n",
        "allFiles = sorted(os.listdir(os.getcwd()))\r\n",
        "print(len(allFiles))\r\n",
        "for filename in allFiles:\r\n",
        "   print(dateString)\r\n",
        "   with open(os.path.join(os.getcwd(), filename), 'r') as file:\r\n",
        "     lines = file.readlines()\r\n",
        "     file.close() #free memory\r\n",
        "     for line in lines:\r\n",
        "       line = line.split('|')\r\n",
        "       \r\n",
        "       if len(line) > 1:\r\n",
        "          if line[1] == STOCK and line[0] is not 'DATE':\r\n",
        "            BX_SHORT_VALS.append(int(line[2]))\r\n",
        "\r\n",
        "            dateString = ''.join(c for c in filename if c in digits)\r\n",
        "            \r\n",
        "            UNFORMATTED_DATES.append(dateString)\r\n",
        "\r\n",
        "            if dateString[4] != 0:\r\n",
        "              month = int(dateString[4:6])\r\n",
        "            else:\r\n",
        "              month = int(dateString[5])\r\n",
        "            \r\n",
        "            if dateString[6] != 0:\r\n",
        "              day = int(dateString[-2:])\r\n",
        "            else:\r\n",
        "              day = int(dateString[7])\r\n",
        "\r\n",
        "            DATES.append(datetime.date(int(dateString[:4]), month, day))\r\n",
        "\r\n",
        "\r\n",
        "print(BX_SHORT_VALS)"
      ],
      "execution_count": 70,
      "outputs": [
        {
          "output_type": "stream",
          "text": [
            "100\n",
            "\n",
            "\n",
            "\n",
            "\n",
            "\n",
            "\n",
            "\n",
            "\n",
            "\n",
            "\n",
            "\n",
            "\n",
            "\n",
            "\n",
            "\n",
            "\n",
            "\n",
            "\n",
            "\n",
            "\n",
            "\n",
            "\n",
            "\n",
            "\n",
            "\n",
            "\n",
            "\n",
            "\n",
            "\n",
            "\n",
            "\n",
            "\n",
            "\n",
            "\n",
            "\n",
            "\n",
            "\n",
            "\n",
            "\n",
            "\n",
            "\n",
            "\n",
            "\n",
            "\n",
            "\n",
            "\n",
            "\n",
            "\n",
            "\n",
            "\n",
            "\n",
            "\n",
            "\n",
            "\n",
            "\n",
            "\n",
            "20201209\n",
            "20201210\n",
            "20201211\n",
            "20201214\n",
            "20201215\n",
            "20201216\n",
            "20201217\n",
            "20201218\n",
            "20201221\n",
            "20201222\n",
            "20201223\n",
            "20201224\n",
            "20201228\n",
            "20201229\n",
            "20201230\n",
            "20201231\n",
            "20210104\n",
            "20210105\n",
            "20210106\n",
            "20210107\n",
            "20210108\n",
            "20210111\n",
            "20210112\n",
            "20210113\n",
            "20210114\n",
            "20210115\n",
            "20210119\n",
            "20210120\n",
            "20210121\n",
            "20210122\n",
            "20210125\n",
            "20210126\n",
            "20210127\n",
            "20210128\n",
            "20210129\n",
            "20210201\n",
            "20210202\n",
            "20210203\n",
            "20210204\n",
            "20210205\n",
            "20210208\n",
            "20210209\n",
            "20210210\n",
            "20210211\n",
            "[112998, 17277, 14682, 119104, 76424, 21657, 34207, 36248, 12238, 22691, 8841, 3600, 24589, 52106, 14666, 29319, 18068, 4522, 15300, 15348, 26106, 10000, 35507, 24592, 19303, 7209, 14595, 7744, 7762, 4946, 12876, 8985, 25253, 10154, 3150, 4000, 3631, 2500, 4400, 7400, 5805, 7006, 15362, 11102, 4700]\n"
          ],
          "name": "stdout"
        }
      ]
    },
    {
      "cell_type": "code",
      "metadata": {
        "id": "YLvU62uvFi0s"
      },
      "source": [
        ""
      ],
      "execution_count": 70,
      "outputs": []
    },
    {
      "cell_type": "code",
      "metadata": {
        "colab": {
          "base_uri": "https://localhost:8080/"
        },
        "id": "h37-ETyktsgg",
        "outputId": "9f627761-3bb9-42e0-824c-d226e92ba179"
      },
      "source": [
        "  print(UNFORMATTED_DATES)\r\n",
        "  print(DATES)\r\n",
        "  print(BX_SHORT_VALS)"
      ],
      "execution_count": 71,
      "outputs": [
        {
          "output_type": "stream",
          "text": [
            "['20201209', '20201210', '20201211', '20201214', '20201215', '20201216', '20201217', '20201218', '20201221', '20201222', '20201223', '20201224', '20201228', '20201229', '20201230', '20201231', '20210104', '20210105', '20210106', '20210107', '20210108', '20210111', '20210112', '20210113', '20210114', '20210115', '20210119', '20210120', '20210121', '20210122', '20210125', '20210126', '20210127', '20210128', '20210129', '20210201', '20210202', '20210203', '20210204', '20210205', '20210208', '20210209', '20210210', '20210211', '20210212']\n",
            "[datetime.date(2020, 12, 9), datetime.date(2020, 12, 10), datetime.date(2020, 12, 11), datetime.date(2020, 12, 14), datetime.date(2020, 12, 15), datetime.date(2020, 12, 16), datetime.date(2020, 12, 17), datetime.date(2020, 12, 18), datetime.date(2020, 12, 21), datetime.date(2020, 12, 22), datetime.date(2020, 12, 23), datetime.date(2020, 12, 24), datetime.date(2020, 12, 28), datetime.date(2020, 12, 29), datetime.date(2020, 12, 30), datetime.date(2020, 12, 31), datetime.date(2021, 1, 4), datetime.date(2021, 1, 5), datetime.date(2021, 1, 6), datetime.date(2021, 1, 7), datetime.date(2021, 1, 8), datetime.date(2021, 1, 11), datetime.date(2021, 1, 12), datetime.date(2021, 1, 13), datetime.date(2021, 1, 14), datetime.date(2021, 1, 15), datetime.date(2021, 1, 19), datetime.date(2021, 1, 20), datetime.date(2021, 1, 21), datetime.date(2021, 1, 22), datetime.date(2021, 1, 25), datetime.date(2021, 1, 26), datetime.date(2021, 1, 27), datetime.date(2021, 1, 28), datetime.date(2021, 1, 29), datetime.date(2021, 2, 1), datetime.date(2021, 2, 2), datetime.date(2021, 2, 3), datetime.date(2021, 2, 4), datetime.date(2021, 2, 5), datetime.date(2021, 2, 8), datetime.date(2021, 2, 9), datetime.date(2021, 2, 10), datetime.date(2021, 2, 11), datetime.date(2021, 2, 12)]\n",
            "[112998, 17277, 14682, 119104, 76424, 21657, 34207, 36248, 12238, 22691, 8841, 3600, 24589, 52106, 14666, 29319, 18068, 4522, 15300, 15348, 26106, 10000, 35507, 24592, 19303, 7209, 14595, 7744, 7762, 4946, 12876, 8985, 25253, 10154, 3150, 4000, 3631, 2500, 4400, 7400, 5805, 7006, 15362, 11102, 4700]\n"
          ],
          "name": "stdout"
        }
      ]
    },
    {
      "cell_type": "code",
      "metadata": {
        "colab": {
          "base_uri": "https://localhost:8080/",
          "height": 295
        },
        "id": "muRpjaSIWH8A",
        "outputId": "75c6d05d-fc56-49fe-966f-7af3e0ff2423"
      },
      "source": [
        "import matplotlib.pyplot as plt\r\n",
        "\r\n",
        "plt.plot(DATES, BX_SHORT_VALS, color='g')\r\n",
        "# plt.plot(DATES, pop_india, color='orange')\r\n",
        "plt.xlabel('Date')\r\n",
        "plt.ylabel('Short Value')\r\n",
        "plt.title('DASH Short Data')\r\n",
        "plt.show()"
      ],
      "execution_count": 74,
      "outputs": [
        {
          "output_type": "display_data",
          "data": {
            "image/png": "[encoded data removed]",
            "text/plain": [
              "<Figure size 432x288 with 1 Axes>"
            ]
          },
          "metadata": {
            "tags": [],
            "needs_background": "light"
          }
        }
      ]
    }
  ]
}